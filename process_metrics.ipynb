{
 "cells": [
  {
   "cell_type": "code",
   "execution_count": 1,
   "id": "1d0cf89a",
   "metadata": {},
   "outputs": [],
   "source": [
    "import collections\n",
    "import html\n",
    "import itertools\n",
    "import json\n",
    "import operator\n",
    "import os\n",
    "from pathlib import Path\n",
    "\n",
    "import dask\n",
    "import dask.dataframe as dd\n",
    "import dask.diagnostics\n",
    "import dask.array as da\n",
    "import datasets\n",
    "import IPython.display as ipd\n",
    "import matplotlib.pyplot as plt\n",
    "import matplotlib as mpl\n",
    "import numpy as np\n",
    "import pandas as pd\n",
    "import seaborn as sns\n",
    "import scipy\n",
    "import torch\n",
    "import torch.functional as F\n",
    "from tqdm.auto import tqdm\n",
    "import transformers\n",
    "\n",
    "from context_probing.utils import get_data, get_shard_sizes, ids_to_readable_tokens"
   ]
  },
  {
   "cell_type": "code",
   "execution_count": 2,
   "id": "fc172d1e",
   "metadata": {},
   "outputs": [],
   "source": [
    "datasets.disable_caching()"
   ]
  },
  {
   "cell_type": "code",
   "execution_count": 3,
   "id": "7baa36cc",
   "metadata": {},
   "outputs": [],
   "source": [
    "tokenizer = transformers.AutoTokenizer.from_pretrained(\"EleutherAI/gpt-j-6B\")"
   ]
  },
  {
   "cell_type": "code",
   "execution_count": 4,
   "id": "2c5ee5ee",
   "metadata": {},
   "outputs": [],
   "source": [
    "DATA_DIR = Path(\"data/en_lines-ud-dev/\")\n",
    "MODELS = [\"gpt-j-6B\", \"gpt2-xl\", \"gpt2\"]\n",
    "METRICS_PATH_FMT = \"preds/{}.en_lines-ud-dev.metrics.pth\""
   ]
  },
  {
   "cell_type": "code",
   "execution_count": 5,
   "id": "9994daa1",
   "metadata": {},
   "outputs": [],
   "source": [
    "WINDOW_LEN = 1024"
   ]
  },
  {
   "cell_type": "markdown",
   "id": "0f4cad7e",
   "metadata": {},
   "source": [
    "## Load the data"
   ]
  },
  {
   "cell_type": "code",
   "execution_count": 6,
   "id": "af35f563",
   "metadata": {
    "scrolled": true
   },
   "outputs": [
    {
     "name": "stderr",
     "output_type": "stream",
     "text": [
      "num_proc must be <= 8. Reducing num_proc to 8 for dataset of size 8.\n"
     ]
    },
    {
     "name": "stdout",
     "output_type": "stream",
     "text": [
      "          "
     ]
    },
    {
     "data": {
      "application/vnd.jupyter.widget-view+json": {
       "model_id": "119db6f0e613493a90ef3c56c09d83d5",
       "version_major": 2,
       "version_minor": 0
      },
      "text/plain": [
       "#0:   0%|          | 0/1 [00:00<?, ?ex/s]"
      ]
     },
     "metadata": {},
     "output_type": "display_data"
    },
    {
     "name": "stdout",
     "output_type": "stream",
     "text": [
      " "
     ]
    },
    {
     "data": {
      "application/vnd.jupyter.widget-view+json": {
       "model_id": "2a35caa72b2f41fd9b134eb89b15da37",
       "version_major": 2,
       "version_minor": 0
      },
      "text/plain": [
       "#1:   0%|          | 0/1 [00:00<?, ?ex/s]"
      ]
     },
     "metadata": {},
     "output_type": "display_data"
    },
    {
     "name": "stdout",
     "output_type": "stream",
     "text": [
      " "
     ]
    },
    {
     "data": {
      "application/vnd.jupyter.widget-view+json": {
       "model_id": "8013898a760a4a8980b5efa8aaee53c9",
       "version_major": 2,
       "version_minor": 0
      },
      "text/plain": [
       "#2:   0%|          | 0/1 [00:00<?, ?ex/s]"
      ]
     },
     "metadata": {},
     "output_type": "display_data"
    },
    {
     "name": "stdout",
     "output_type": "stream",
     "text": [
      " "
     ]
    },
    {
     "data": {
      "application/vnd.jupyter.widget-view+json": {
       "model_id": "767dc4a602da48eb953fcc4753bc8618",
       "version_major": 2,
       "version_minor": 0
      },
      "text/plain": [
       "#3:   0%|          | 0/1 [00:00<?, ?ex/s]"
      ]
     },
     "metadata": {},
     "output_type": "display_data"
    },
    {
     "name": "stdout",
     "output_type": "stream",
     "text": [
      " "
     ]
    },
    {
     "data": {
      "application/vnd.jupyter.widget-view+json": {
       "model_id": "b2eb2d70f06d4d7fb25adc0df3a1ff3f",
       "version_major": 2,
       "version_minor": 0
      },
      "text/plain": [
       "#4:   0%|          | 0/1 [00:00<?, ?ex/s]"
      ]
     },
     "metadata": {},
     "output_type": "display_data"
    },
    {
     "data": {
      "application/vnd.jupyter.widget-view+json": {
       "model_id": "d95888a9acea41f4b28c63855a083e20",
       "version_major": 2,
       "version_minor": 0
      },
      "text/plain": [
       "#5:   0%|          | 0/1 [00:00<?, ?ex/s]"
      ]
     },
     "metadata": {},
     "output_type": "display_data"
    },
    {
     "name": "stdout",
     "output_type": "stream",
     "text": [
      "  "
     ]
    },
    {
     "data": {
      "application/vnd.jupyter.widget-view+json": {
       "model_id": "1239c5696e9f42f48ddebe5a3f606067",
       "version_major": 2,
       "version_minor": 0
      },
      "text/plain": [
       "#6:   0%|          | 0/1 [00:00<?, ?ex/s]"
      ]
     },
     "metadata": {},
     "output_type": "display_data"
    },
    {
     "data": {
      "application/vnd.jupyter.widget-view+json": {
       "model_id": "bfffad3e793b40d39b3016a8c14826a1",
       "version_major": 2,
       "version_minor": 0
      },
      "text/plain": [
       "#7:   0%|          | 0/1 [00:00<?, ?ex/s]"
      ]
     },
     "metadata": {},
     "output_type": "display_data"
    },
    {
     "name": "stderr",
     "output_type": "stream",
     "text": [
      "num_proc must be <= 8. Reducing num_proc to 8 for dataset of size 8.\n"
     ]
    },
    {
     "name": "stdout",
     "output_type": "stream",
     "text": [
      "          "
     ]
    },
    {
     "data": {
      "application/vnd.jupyter.widget-view+json": {
       "model_id": "64406ddc86284e7aa2cd02f2585e81db",
       "version_major": 2,
       "version_minor": 0
      },
      "text/plain": [
       "#0:   0%|          | 0/1 [00:00<?, ?ex/s]"
      ]
     },
     "metadata": {},
     "output_type": "display_data"
    },
    {
     "data": {
      "application/vnd.jupyter.widget-view+json": {
       "model_id": "2126a6ab93124c10ae2c7779769e4231",
       "version_major": 2,
       "version_minor": 0
      },
      "text/plain": [
       "#1:   0%|          | 0/1 [00:00<?, ?ex/s]"
      ]
     },
     "metadata": {},
     "output_type": "display_data"
    },
    {
     "name": "stdout",
     "output_type": "stream",
     "text": [
      "  "
     ]
    },
    {
     "data": {
      "application/vnd.jupyter.widget-view+json": {
       "model_id": "a4e29c6c556d4d389451a447e21a40b8",
       "version_major": 2,
       "version_minor": 0
      },
      "text/plain": [
       "#2:   0%|          | 0/1 [00:00<?, ?ex/s]"
      ]
     },
     "metadata": {},
     "output_type": "display_data"
    },
    {
     "data": {
      "application/vnd.jupyter.widget-view+json": {
       "model_id": "e41f633eefa549499e7adc552ce3e663",
       "version_major": 2,
       "version_minor": 0
      },
      "text/plain": [
       "#3:   0%|          | 0/1 [00:00<?, ?ex/s]"
      ]
     },
     "metadata": {},
     "output_type": "display_data"
    },
    {
     "name": "stdout",
     "output_type": "stream",
     "text": [
      "  "
     ]
    },
    {
     "data": {
      "application/vnd.jupyter.widget-view+json": {
       "model_id": "094f3ac27c3d4a33895de62be7d86921",
       "version_major": 2,
       "version_minor": 0
      },
      "text/plain": [
       "#4:   0%|          | 0/1 [00:00<?, ?ex/s]"
      ]
     },
     "metadata": {},
     "output_type": "display_data"
    },
    {
     "data": {
      "application/vnd.jupyter.widget-view+json": {
       "model_id": "b3fef448a96346868e1d2f6e7f788ae2",
       "version_major": 2,
       "version_minor": 0
      },
      "text/plain": [
       "#5:   0%|          | 0/1 [00:00<?, ?ex/s]"
      ]
     },
     "metadata": {},
     "output_type": "display_data"
    },
    {
     "name": "stdout",
     "output_type": "stream",
     "text": [
      "  "
     ]
    },
    {
     "data": {
      "application/vnd.jupyter.widget-view+json": {
       "model_id": "977ba94cdf79432f9ed355ce5d6ea458",
       "version_major": 2,
       "version_minor": 0
      },
      "text/plain": [
       "#6:   0%|          | 0/1 [00:00<?, ?ex/s]"
      ]
     },
     "metadata": {},
     "output_type": "display_data"
    },
    {
     "data": {
      "application/vnd.jupyter.widget-view+json": {
       "model_id": "a9654390f0e547ad906fee022dad8fb0",
       "version_major": 2,
       "version_minor": 0
      },
      "text/plain": [
       "#7:   0%|          | 0/1 [00:00<?, ?ex/s]"
      ]
     },
     "metadata": {},
     "output_type": "display_data"
    },
    {
     "name": "stderr",
     "output_type": "stream",
     "text": [
      "num_proc must be <= 8. Reducing num_proc to 8 for dataset of size 8.\n"
     ]
    },
    {
     "name": "stdout",
     "output_type": "stream",
     "text": [
      "          "
     ]
    },
    {
     "data": {
      "application/vnd.jupyter.widget-view+json": {
       "model_id": "f88103fa21c0440a8317605828fc40d7",
       "version_major": 2,
       "version_minor": 0
      },
      "text/plain": [
       "#0:   0%|          | 0/1 [00:00<?, ?ex/s]"
      ]
     },
     "metadata": {},
     "output_type": "display_data"
    },
    {
     "name": "stdout",
     "output_type": "stream",
     "text": [
      " "
     ]
    },
    {
     "data": {
      "application/vnd.jupyter.widget-view+json": {
       "model_id": "c934bbb0d9c446b582753f06ac57c982",
       "version_major": 2,
       "version_minor": 0
      },
      "text/plain": [
       "#1:   0%|          | 0/1 [00:00<?, ?ex/s]"
      ]
     },
     "metadata": {},
     "output_type": "display_data"
    },
    {
     "data": {
      "application/vnd.jupyter.widget-view+json": {
       "model_id": "6790761e87154bac890629cf8564f3b0",
       "version_major": 2,
       "version_minor": 0
      },
      "text/plain": [
       "#2:   0%|          | 0/1 [00:00<?, ?ex/s]"
      ]
     },
     "metadata": {},
     "output_type": "display_data"
    },
    {
     "name": "stdout",
     "output_type": "stream",
     "text": [
      "  "
     ]
    },
    {
     "data": {
      "application/vnd.jupyter.widget-view+json": {
       "model_id": "bc1cf5fa705b4f18a79192cff0fb8132",
       "version_major": 2,
       "version_minor": 0
      },
      "text/plain": [
       "#3:   0%|          | 0/1 [00:00<?, ?ex/s]"
      ]
     },
     "metadata": {},
     "output_type": "display_data"
    },
    {
     "name": "stdout",
     "output_type": "stream",
     "text": [
      " "
     ]
    },
    {
     "data": {
      "application/vnd.jupyter.widget-view+json": {
       "model_id": "94fabf3ff7ca495194d7b43307656d28",
       "version_major": 2,
       "version_minor": 0
      },
      "text/plain": [
       "#4:   0%|          | 0/1 [00:00<?, ?ex/s]"
      ]
     },
     "metadata": {},
     "output_type": "display_data"
    },
    {
     "data": {
      "application/vnd.jupyter.widget-view+json": {
       "model_id": "0be4af18e9174b598e7f43931cd38f42",
       "version_major": 2,
       "version_minor": 0
      },
      "text/plain": [
       "#5:   0%|          | 0/1 [00:00<?, ?ex/s]"
      ]
     },
     "metadata": {},
     "output_type": "display_data"
    },
    {
     "name": "stdout",
     "output_type": "stream",
     "text": [
      " "
     ]
    },
    {
     "data": {
      "application/vnd.jupyter.widget-view+json": {
       "model_id": "25a8d51e3c98417cac4ddf701068c137",
       "version_major": 2,
       "version_minor": 0
      },
      "text/plain": [
       "#6:   0%|          | 0/1 [00:00<?, ?ex/s]"
      ]
     },
     "metadata": {},
     "output_type": "display_data"
    },
    {
     "name": "stdout",
     "output_type": "stream",
     "text": [
      " "
     ]
    },
    {
     "data": {
      "application/vnd.jupyter.widget-view+json": {
       "model_id": "3c6dac2c7b694dbab0599c9160cba6ce",
       "version_major": 2,
       "version_minor": 0
      },
      "text/plain": [
       "#7:   0%|          | 0/1 [00:00<?, ?ex/s]"
      ]
     },
     "metadata": {},
     "output_type": "display_data"
    }
   ],
   "source": [
    "dataset = get_data(\n",
    "    DATA_DIR,\n",
    "    add_positions=True,  # add the positions within the document (\"positions\")\n",
    "    add_seq_ids=True,    # add the index of the document (\"seq_id\")\n",
    "    columns=[\n",
    "        \"input_ids\", \"attention_mask\", \"ud_form\", \"ud_lemma\", \"ud_upos\", \"ud_xpos\", \"ud_deprel\", \"sent_id\", \"ud_id\", \"ud_head\"\n",
    "    ]\n",
    ")"
   ]
  },
  {
   "cell_type": "code",
   "execution_count": 7,
   "id": "ec8b77e9",
   "metadata": {},
   "outputs": [
    {
     "data": {
      "text/plain": [
       "[2474, 2907, 2325, 2590, 2030, 3647, 2511, 2188]"
      ]
     },
     "execution_count": 7,
     "metadata": {},
     "output_type": "execute_result"
    }
   ],
   "source": [
    "[len(doc[\"input_ids\"]) for doc in dataset]"
   ]
  },
  {
   "cell_type": "code",
   "execution_count": 8,
   "id": "6877c768",
   "metadata": {},
   "outputs": [
    {
     "data": {
      "text/html": [
       "<div>\n",
       "<style scoped>\n",
       "    .dataframe tbody tr th:only-of-type {\n",
       "        vertical-align: middle;\n",
       "    }\n",
       "\n",
       "    .dataframe tbody tr th {\n",
       "        vertical-align: top;\n",
       "    }\n",
       "\n",
       "    .dataframe thead th {\n",
       "        text-align: right;\n",
       "    }\n",
       "</style>\n",
       "<table border=\"1\" class=\"dataframe\">\n",
       "  <thead>\n",
       "    <tr style=\"text-align: right;\">\n",
       "      <th></th>\n",
       "      <th>input_ids</th>\n",
       "      <th>attention_mask</th>\n",
       "      <th>ud_form</th>\n",
       "      <th>ud_lemma</th>\n",
       "      <th>ud_upos</th>\n",
       "      <th>ud_xpos</th>\n",
       "      <th>ud_deprel</th>\n",
       "      <th>ud_id</th>\n",
       "      <th>ud_head</th>\n",
       "      <th>sent_id</th>\n",
       "      <th>labels</th>\n",
       "      <th>position</th>\n",
       "      <th>seq_id</th>\n",
       "    </tr>\n",
       "  </thead>\n",
       "  <tbody>\n",
       "    <tr>\n",
       "      <th>0</th>\n",
       "      <td>2215</td>\n",
       "      <td>1</td>\n",
       "      <td>When</td>\n",
       "      <td>when</td>\n",
       "      <td>SCONJ</td>\n",
       "      <td>None</td>\n",
       "      <td>mark</td>\n",
       "      <td>1</td>\n",
       "      <td>4</td>\n",
       "      <td>1</td>\n",
       "      <td>2215</td>\n",
       "      <td>0</td>\n",
       "      <td>0</td>\n",
       "    </tr>\n",
       "    <tr>\n",
       "      <th>1</th>\n",
       "      <td>257</td>\n",
       "      <td>1</td>\n",
       "      <td>a</td>\n",
       "      <td>a</td>\n",
       "      <td>DET</td>\n",
       "      <td>IND-SG</td>\n",
       "      <td>det</td>\n",
       "      <td>2</td>\n",
       "      <td>3</td>\n",
       "      <td>1</td>\n",
       "      <td>257</td>\n",
       "      <td>1</td>\n",
       "      <td>0</td>\n",
       "    </tr>\n",
       "    <tr>\n",
       "      <th>2</th>\n",
       "      <td>2836</td>\n",
       "      <td>1</td>\n",
       "      <td>user</td>\n",
       "      <td>user</td>\n",
       "      <td>NOUN</td>\n",
       "      <td>SG-NOM</td>\n",
       "      <td>nsubj</td>\n",
       "      <td>3</td>\n",
       "      <td>4</td>\n",
       "      <td>1</td>\n",
       "      <td>2836</td>\n",
       "      <td>2</td>\n",
       "      <td>0</td>\n",
       "    </tr>\n",
       "    <tr>\n",
       "      <th>3</th>\n",
       "      <td>20417</td>\n",
       "      <td>1</td>\n",
       "      <td>connects</td>\n",
       "      <td>connect</td>\n",
       "      <td>VERB</td>\n",
       "      <td>PRES</td>\n",
       "      <td>advcl</td>\n",
       "      <td>4</td>\n",
       "      <td>19</td>\n",
       "      <td>1</td>\n",
       "      <td>20417</td>\n",
       "      <td>3</td>\n",
       "      <td>0</td>\n",
       "    </tr>\n",
       "    <tr>\n",
       "      <th>4</th>\n",
       "      <td>284</td>\n",
       "      <td>1</td>\n",
       "      <td>to</td>\n",
       "      <td>to</td>\n",
       "      <td>ADP</td>\n",
       "      <td>None</td>\n",
       "      <td>case</td>\n",
       "      <td>5</td>\n",
       "      <td>9</td>\n",
       "      <td>1</td>\n",
       "      <td>284</td>\n",
       "      <td>4</td>\n",
       "      <td>0</td>\n",
       "    </tr>\n",
       "    <tr>\n",
       "      <th>...</th>\n",
       "      <td>...</td>\n",
       "      <td>...</td>\n",
       "      <td>...</td>\n",
       "      <td>...</td>\n",
       "      <td>...</td>\n",
       "      <td>...</td>\n",
       "      <td>...</td>\n",
       "      <td>...</td>\n",
       "      <td>...</td>\n",
       "      <td>...</td>\n",
       "      <td>...</td>\n",
       "      <td>...</td>\n",
       "      <td>...</td>\n",
       "    </tr>\n",
       "    <tr>\n",
       "      <th>2183</th>\n",
       "      <td>683</td>\n",
       "      <td>1</td>\n",
       "      <td>him</td>\n",
       "      <td>he</td>\n",
       "      <td>PRON</td>\n",
       "      <td>PERS-P3SG-ACC</td>\n",
       "      <td>obl</td>\n",
       "      <td>4</td>\n",
       "      <td>1</td>\n",
       "      <td>1032</td>\n",
       "      <td>683</td>\n",
       "      <td>2183</td>\n",
       "      <td>7</td>\n",
       "    </tr>\n",
       "    <tr>\n",
       "      <th>2184</th>\n",
       "      <td>355</td>\n",
       "      <td>1</td>\n",
       "      <td>as</td>\n",
       "      <td>as</td>\n",
       "      <td>SCONJ</td>\n",
       "      <td>None</td>\n",
       "      <td>mark</td>\n",
       "      <td>5</td>\n",
       "      <td>7</td>\n",
       "      <td>1032</td>\n",
       "      <td>355</td>\n",
       "      <td>2184</td>\n",
       "      <td>7</td>\n",
       "    </tr>\n",
       "    <tr>\n",
       "      <th>2185</th>\n",
       "      <td>339</td>\n",
       "      <td>1</td>\n",
       "      <td>he</td>\n",
       "      <td>he</td>\n",
       "      <td>PRON</td>\n",
       "      <td>PERS-P3SG-NOM</td>\n",
       "      <td>nsubj</td>\n",
       "      <td>6</td>\n",
       "      <td>7</td>\n",
       "      <td>1032</td>\n",
       "      <td>339</td>\n",
       "      <td>2185</td>\n",
       "      <td>7</td>\n",
       "    </tr>\n",
       "    <tr>\n",
       "      <th>2186</th>\n",
       "      <td>11114</td>\n",
       "      <td>1</td>\n",
       "      <td>walks</td>\n",
       "      <td>walk</td>\n",
       "      <td>VERB</td>\n",
       "      <td>PRES</td>\n",
       "      <td>advcl</td>\n",
       "      <td>7</td>\n",
       "      <td>1</td>\n",
       "      <td>1032</td>\n",
       "      <td>11114</td>\n",
       "      <td>2186</td>\n",
       "      <td>7</td>\n",
       "    </tr>\n",
       "    <tr>\n",
       "      <th>2187</th>\n",
       "      <td>13</td>\n",
       "      <td>1</td>\n",
       "      <td>.</td>\n",
       "      <td>.</td>\n",
       "      <td>PUNCT</td>\n",
       "      <td>Period</td>\n",
       "      <td>punct</td>\n",
       "      <td>8</td>\n",
       "      <td>1</td>\n",
       "      <td>1032</td>\n",
       "      <td>13</td>\n",
       "      <td>2187</td>\n",
       "      <td>7</td>\n",
       "    </tr>\n",
       "  </tbody>\n",
       "</table>\n",
       "<p>20672 rows × 13 columns</p>\n",
       "</div>"
      ],
      "text/plain": [
       "      input_ids  attention_mask   ud_form ud_lemma ud_upos        ud_xpos  \\\n",
       "0          2215               1      When     when   SCONJ           None   \n",
       "1           257               1         a        a     DET         IND-SG   \n",
       "2          2836               1      user     user    NOUN         SG-NOM   \n",
       "3         20417               1  connects  connect    VERB           PRES   \n",
       "4           284               1        to       to     ADP           None   \n",
       "...         ...             ...       ...      ...     ...            ...   \n",
       "2183        683               1       him       he    PRON  PERS-P3SG-ACC   \n",
       "2184        355               1        as       as   SCONJ           None   \n",
       "2185        339               1        he       he    PRON  PERS-P3SG-NOM   \n",
       "2186      11114               1     walks     walk    VERB           PRES   \n",
       "2187         13               1         .        .   PUNCT         Period   \n",
       "\n",
       "     ud_deprel  ud_id  ud_head  sent_id  labels  position  seq_id  \n",
       "0         mark      1        4        1    2215         0       0  \n",
       "1          det      2        3        1     257         1       0  \n",
       "2        nsubj      3        4        1    2836         2       0  \n",
       "3        advcl      4       19        1   20417         3       0  \n",
       "4         case      5        9        1     284         4       0  \n",
       "...        ...    ...      ...      ...     ...       ...     ...  \n",
       "2183       obl      4        1     1032     683      2183       7  \n",
       "2184      mark      5        7     1032     355      2184       7  \n",
       "2185     nsubj      6        7     1032     339      2185       7  \n",
       "2186     advcl      7        1     1032   11114      2186       7  \n",
       "2187     punct      8        1     1032      13      2187       7  \n",
       "\n",
       "[20672 rows x 13 columns]"
      ]
     },
     "execution_count": 8,
     "metadata": {},
     "output_type": "execute_result"
    }
   ],
   "source": [
    "dataset_df = pd.concat(pd.DataFrame(seq) for seq in dataset).rename(columns={\"positions\": \"position\"})\n",
    "dataset_df"
   ]
  },
  {
   "cell_type": "code",
   "execution_count": 9,
   "id": "f8563838",
   "metadata": {},
   "outputs": [],
   "source": [
    "seq_bounds = [0]\n",
    "start_idx = 0\n",
    "for ids in dataset[\"input_ids\"]:\n",
    "    end_idx = start_idx + len(ids) - 1\n",
    "    seq_bounds.append(end_idx)\n",
    "    start_idx = end_idx"
   ]
  },
  {
   "cell_type": "code",
   "execution_count": 10,
   "id": "332b5e23",
   "metadata": {},
   "outputs": [],
   "source": [
    "def load_metrics(path):\n",
    "    metrics = torch.load(path)\n",
    "\n",
    "    # Mask out values below the diagonal\n",
    "    for val in metrics.values():\n",
    "        assert len(val) == seq_bounds[-1]\n",
    "        for start, end in zip(seq_bounds[:-1], seq_bounds[1:]):\n",
    "            if val.is_floating_point():\n",
    "                assert val.ndim == 2\n",
    "                val[start:end] += torch.triu(torch.full_like(val[start:end], torch.nan), diagonal=1)\n",
    "            else:\n",
    "                assert val.ndim == 3\n",
    "                mask = torch.triu(torch.ones(val[start:end].shape[:2], dtype=val.dtype), diagonal=1)[..., None]\n",
    "                val[start:end] *= 1 - mask\n",
    "                val[start:end] -= mask\n",
    "\n",
    "    return metrics"
   ]
  },
  {
   "cell_type": "code",
   "execution_count": 11,
   "id": "bc632592",
   "metadata": {},
   "outputs": [
    {
     "data": {
      "application/vnd.jupyter.widget-view+json": {
       "model_id": "394fcce8d56544eca69fb2c2a09a06d2",
       "version_major": 2,
       "version_minor": 0
      },
      "text/plain": [
       "  0%|          | 0/3 [00:00<?, ?it/s]"
      ]
     },
     "metadata": {},
     "output_type": "display_data"
    }
   ],
   "source": [
    "metrics_dict = {\"xent\": [], \"kl_full\": [], \"ctx_len\": [], \"seq_id\": [], \"position\": [], \"model\": []}\n",
    "\n",
    "for model in tqdm(MODELS):\n",
    "    metrics = load_metrics(METRICS_PATH_FMT.format(model))\n",
    "\n",
    "    # Fill in values below the diagonal with values from the diagonal\n",
    "    for val in metrics.values():\n",
    "        assert len(val) == seq_bounds[-1]\n",
    "        for start, end in zip(seq_bounds[:-1], seq_bounds[1:]):\n",
    "            if not val.is_floating_point():\n",
    "                continue\n",
    "                \n",
    "            assert val.ndim == 2\n",
    "            \n",
    "            mask = torch.triu(torch.ones_like(val[start:end], dtype=bool), diagonal=1)\n",
    "            fill_values = val[start:end][np.arange(end - start), np.arange(end - start).clip(max=val.shape[1] - 1)]\n",
    "            fill_values = torch.broadcast_to(fill_values[:, None], val[start:end].shape)\n",
    "            val[start:end][mask] = fill_values[mask]\n",
    "\n",
    "    metrics_dict[\"xent\"].append(da.from_array(metrics[\"xent\"].numpy().reshape(-1), chunks=\"auto\"))\n",
    "    shape = metrics_dict[\"xent\"][-1].shape\n",
    "    chunks = metrics_dict[\"xent\"][-1].chunks\n",
    "    metrics_dict[\"kl_full\"].append(da.from_array(metrics[\"kl_full\"].numpy().reshape(-1), chunks=chunks))\n",
    "    metrics_dict[\"ctx_len\"].append(da.broadcast_to(da.arange(1, WINDOW_LEN + 1), metrics[\"xent\"].shape).reshape(shape).rechunk(chunks))\n",
    "    for col, newcol, dtype in [(\"seq_id\", \"seq_id\", int), (\"positions\", \"position\", int)]:\n",
    "        metrics_dict[newcol].append(da.broadcast_to(\n",
    "            da.asarray([val for ex in dataset[col] for val in ex[1:]], dtype=dtype)[:, None],\n",
    "            metrics[\"xent\"].shape\n",
    "        ).reshape(shape).rechunk(chunks))\n",
    "    metrics_dict[\"model\"].append(da.from_array(np.full(shape, model, dtype=object), chunks=chunks))"
   ]
  },
  {
   "cell_type": "code",
   "execution_count": 12,
   "id": "c70b43a5",
   "metadata": {},
   "outputs": [
    {
     "data": {
      "text/html": [
       "<div><strong>Dask DataFrame Structure:</strong></div>\n",
       "<div>\n",
       "<style scoped>\n",
       "    .dataframe tbody tr th:only-of-type {\n",
       "        vertical-align: middle;\n",
       "    }\n",
       "\n",
       "    .dataframe tbody tr th {\n",
       "        vertical-align: top;\n",
       "    }\n",
       "\n",
       "    .dataframe thead th {\n",
       "        text-align: right;\n",
       "    }\n",
       "</style>\n",
       "<table border=\"1\" class=\"dataframe\">\n",
       "  <thead>\n",
       "    <tr style=\"text-align: right;\">\n",
       "      <th></th>\n",
       "      <th>xent</th>\n",
       "      <th>kl_full</th>\n",
       "      <th>ctx_len</th>\n",
       "      <th>seq_id</th>\n",
       "      <th>position</th>\n",
       "      <th>model</th>\n",
       "    </tr>\n",
       "    <tr>\n",
       "      <th>npartitions=16</th>\n",
       "      <th></th>\n",
       "      <th></th>\n",
       "      <th></th>\n",
       "      <th></th>\n",
       "      <th></th>\n",
       "      <th></th>\n",
       "    </tr>\n",
       "  </thead>\n",
       "  <tbody>\n",
       "    <tr>\n",
       "      <th>0</th>\n",
       "      <td>float32</td>\n",
       "      <td>float32</td>\n",
       "      <td>int64</td>\n",
       "      <td>int64</td>\n",
       "      <td>int64</td>\n",
       "      <td>object</td>\n",
       "    </tr>\n",
       "    <tr>\n",
       "      <th>3967488</th>\n",
       "      <td>...</td>\n",
       "      <td>...</td>\n",
       "      <td>...</td>\n",
       "      <td>...</td>\n",
       "      <td>...</td>\n",
       "      <td>...</td>\n",
       "    </tr>\n",
       "    <tr>\n",
       "      <th>...</th>\n",
       "      <td>...</td>\n",
       "      <td>...</td>\n",
       "      <td>...</td>\n",
       "      <td>...</td>\n",
       "      <td>...</td>\n",
       "      <td>...</td>\n",
       "    </tr>\n",
       "    <tr>\n",
       "      <th>59512319</th>\n",
       "      <td>...</td>\n",
       "      <td>...</td>\n",
       "      <td>...</td>\n",
       "      <td>...</td>\n",
       "      <td>...</td>\n",
       "      <td>...</td>\n",
       "    </tr>\n",
       "    <tr>\n",
       "      <th>63479807</th>\n",
       "      <td>...</td>\n",
       "      <td>...</td>\n",
       "      <td>...</td>\n",
       "      <td>...</td>\n",
       "      <td>...</td>\n",
       "      <td>...</td>\n",
       "    </tr>\n",
       "  </tbody>\n",
       "</table>\n",
       "</div>\n",
       "<div>Dask Name: repartition-merge, 132 tasks</div>"
      ],
      "text/plain": [
       "Dask DataFrame Structure:\n",
       "                   xent  kl_full ctx_len seq_id position   model\n",
       "npartitions=16                                                  \n",
       "0               float32  float32   int64  int64    int64  object\n",
       "3967488             ...      ...     ...    ...      ...     ...\n",
       "...                 ...      ...     ...    ...      ...     ...\n",
       "59512319            ...      ...     ...    ...      ...     ...\n",
       "63479807            ...      ...     ...    ...      ...     ...\n",
       "Dask Name: repartition-merge, 132 tasks"
      ]
     },
     "execution_count": 12,
     "metadata": {},
     "output_type": "execute_result"
    }
   ],
   "source": [
    "col_names = list(metrics_dict.keys())\n",
    "metrics_dd = dd.concat([\n",
    "    dd.from_dask_array(da.concatenate([a for a in metrics_dict[col]]))\n",
    "    for col in col_names\n",
    "], axis=1)\n",
    "metrics_dd.columns = col_names\n",
    "metrics_dd = metrics_dd.repartition(16)\n",
    "metrics_dd"
   ]
  },
  {
   "cell_type": "code",
   "execution_count": 13,
   "id": "0d9d7b69",
   "metadata": {},
   "outputs": [],
   "source": [
    "Path(\"figs/\").mkdir(exist_ok=True)"
   ]
  },
  {
   "cell_type": "code",
   "execution_count": 14,
   "id": "3e0804ee",
   "metadata": {},
   "outputs": [
    {
     "name": "stdout",
     "output_type": "stream",
     "text": [
      "[########################################] | 100% Completed | 7.18 sms\n"
     ]
    },
    {
     "data": {
      "image/png": "[encoded data removed]",
      "text/plain": [
       "<Figure size 324x216 with 1 Axes>"
      ]
     },
     "metadata": {
      "needs_background": "light"
     },
     "output_type": "display_data"
    },
    {
     "name": "stdout",
     "output_type": "stream",
     "text": [
      "[########################################] | 100% Completed | 6.32 sms\n"
     ]
    },
    {
     "data": {
      "image/png": "[encoded data removed]",
      "text/plain": [
       "<Figure size 324x216 with 1 Axes>"
      ]
     },
     "metadata": {
      "needs_background": "light"
     },
     "output_type": "display_data"
    }
   ],
   "source": [
    "for metric, ylabel in [(\"xent\", \"cross entropy\"), (\"kl_full\", \"KL divergence\")]:\n",
    "    with dask.diagnostics.ProgressBar():\n",
    "        df = (\n",
    "            metrics_dd\n",
    "            .groupby([\"model\", \"ctx_len\"]).agg({metric: \"mean\"})\n",
    "            .compute()\n",
    "        )\n",
    "\n",
    "    plt.figure(figsize=(4.5, 3))\n",
    "    sns.lineplot(data=df, x=\"ctx_len\", y=metric, hue=\"model\", hue_order=MODELS[::-1], ci=\"none\", palette=\"muted\")\n",
    "    plt.xlabel(\"context length\")\n",
    "    plt.ylabel(ylabel)\n",
    "    plt.xscale(\"log\", base=2)\n",
    "    xticks = 2 ** np.arange(0, 11, 2)\n",
    "    plt.xticks(xticks, xticks)\n",
    "    plt.savefig(f\"figs/{metric}_ctx_models.pdf\", bbox_inches=\"tight\")\n",
    "    plt.show()"
   ]
  },
  {
   "cell_type": "code",
   "execution_count": 15,
   "id": "fd887b5a",
   "metadata": {
    "scrolled": true
   },
   "outputs": [
    {
     "data": {
      "text/plain": [
       "NOUN     4085\n",
       "VERB     2450\n",
       "PUNCT    2226\n",
       "PRON     1954\n",
       "ADP      1892\n",
       "DET      1801\n",
       "ADJ      1509\n",
       "ADV      1096\n",
       "AUX      1063\n",
       "PROPN     969\n",
       "CCONJ     611\n",
       "PART      488\n",
       "SCONJ     309\n",
       "NUM       130\n",
       "INTJ       43\n",
       "X          34\n",
       "SYM         4\n",
       "Name: ud_upos, dtype: int64"
      ]
     },
     "execution_count": 15,
     "metadata": {},
     "output_type": "execute_result"
    }
   ],
   "source": [
    "upos_counts = (    \n",
    "    metrics_dd[[\"seq_id\", \"position\"]]\n",
    "    .drop_duplicates()\n",
    "    .compute()\n",
    "    .join(dataset_df.set_index([\"seq_id\", \"position\"])[[\"ud_upos\"]], on=[\"seq_id\", \"position\"])\n",
    "    [\"ud_upos\"].value_counts()\n",
    ")\n",
    "upos_counts"
   ]
  },
  {
   "cell_type": "code",
   "execution_count": 16,
   "id": "67dea7bc",
   "metadata": {},
   "outputs": [],
   "source": [
    "upos_filtered = upos_counts.index[upos_counts >= 100]"
   ]
  },
  {
   "cell_type": "code",
   "execution_count": 17,
   "id": "dd86bf37",
   "metadata": {},
   "outputs": [
    {
     "name": "stdout",
     "output_type": "stream",
     "text": [
      "[########################################] | 100% Completed | 7.72 sms\n"
     ]
    },
    {
     "data": {
      "image/png": "[encoded data removed]",
      "text/plain": [
       "<Figure size 324x216 with 1 Axes>"
      ]
     },
     "metadata": {
      "needs_background": "light"
     },
     "output_type": "display_data"
    }
   ],
   "source": [
    "for metric, ylabel in [(\"xent\", \"cross entropy\")]:\n",
    "    with dask.diagnostics.ProgressBar():\n",
    "        df = (\n",
    "            metrics_dd\n",
    "            .query(\"model == 'gpt-j-6B'\")\n",
    "            .compute()\n",
    "            .join(dataset_df.set_index([\"seq_id\", \"position\"])[[\"ud_upos\"]].query(\"ud_upos in @upos_filtered\"),\n",
    "                  on=[\"seq_id\", \"position\"], how=\"inner\")\n",
    "            .groupby([\"ctx_len\", \"ud_upos\"], sort=False).agg({metric: \"mean\"}).reset_index()\n",
    "        )\n",
    "\n",
    "    base_palette = sns.color_palette(\"muted\")\n",
    "    upos_groups = [\n",
    "        [\"PROPN\"],\n",
    "        [\"NOUN\"],\n",
    "        [\"VERB\", \"ADJ\", \"ADV\", \"NUM\"],\n",
    "        [\"PRON\", \"SCONJ\"],\n",
    "        [\"AUX\", \"CCONJ\", \"ADP\"],\n",
    "        [\"PART\", \"PUNCT\", \"DET\"],\n",
    "    ]\n",
    "    upos_order = [u for g in upos_groups for u in g]\n",
    "    upos_palette = {u: base_palette[[i for i, g in enumerate(upos_groups) if u in g][0]]\n",
    "                    for u in upos_order}\n",
    "\n",
    "    plt.figure(figsize=(4.5, 3))\n",
    "    sns.lineplot(data=df, x=\"ctx_len\", y=metric,\n",
    "                 hue=\"ud_upos\", hue_order=upos_order,\n",
    "                 palette=upos_palette,\n",
    "                 ci=\"none\")\n",
    "    plt.xlabel(\"context length\")\n",
    "    plt.ylabel(ylabel)\n",
    "    plt.xscale(\"log\", base=2)\n",
    "    xticks = 2 ** np.arange(0, 11, 2)\n",
    "    plt.xticks(xticks, xticks)\n",
    "    \n",
    "    # Group legend by color\n",
    "    handles, _ = plt.gca().get_legend_handles_labels()\n",
    "    new_handles = []\n",
    "    i = 0\n",
    "    for g in upos_groups:\n",
    "        new_handles.append(handles[i])\n",
    "        i += len(g)\n",
    "    labels = [\"/\".join(l for l in g) for g in upos_groups]\n",
    "    plt.legend(new_handles, labels, ncol=2, loc=\"upper center\", bbox_to_anchor=(0.46, -0.2))\n",
    "    \n",
    "    plt.savefig(f\"figs/{metric}_ctx_upos.pdf\", bbox_inches=\"tight\")\n",
    "    plt.show()"
   ]
  },
  {
   "cell_type": "code",
   "execution_count": 18,
   "id": "15c01e72",
   "metadata": {},
   "outputs": [
    {
     "data": {
      "application/vnd.jupyter.widget-view+json": {
       "model_id": "4089d6379df04ceb82cc1fc0d284c48c",
       "version_major": 2,
       "version_minor": 0
      },
      "text/plain": [
       "  0%|          | 0/3 [00:00<?, ?it/s]"
      ]
     },
     "metadata": {},
     "output_type": "display_data"
    },
    {
     "data": {
      "application/vnd.jupyter.widget-view+json": {
       "model_id": "",
       "version_major": 2,
       "version_minor": 0
      },
      "text/plain": [
       "  0%|          | 0/8 [00:00<?, ?it/s]"
      ]
     },
     "metadata": {},
     "output_type": "display_data"
    },
    {
     "data": {
      "application/vnd.jupyter.widget-view+json": {
       "model_id": "",
       "version_major": 2,
       "version_minor": 0
      },
      "text/plain": [
       "  0%|          | 0/8 [00:00<?, ?it/s]"
      ]
     },
     "metadata": {},
     "output_type": "display_data"
    },
    {
     "data": {
      "application/vnd.jupyter.widget-view+json": {
       "model_id": "",
       "version_major": 2,
       "version_minor": 0
      },
      "text/plain": [
       "  0%|          | 0/8 [00:00<?, ?it/s]"
      ]
     },
     "metadata": {},
     "output_type": "display_data"
    }
   ],
   "source": [
    "for model in tqdm(MODELS):\n",
    "    metrics_path = Path(METRICS_PATH_FMT.format(model))\n",
    "    metrics = load_metrics(metrics_path)\n",
    "\n",
    "    for seq_id, (start, end) in enumerate(zip(tqdm(seq_bounds[:-1], leave=False), seq_bounds[1:])):\n",
    "        prefix = f\"{metrics_path.stem.replace('.metrics', '')}.{seq_id:05d}\"\n",
    "\n",
    "        for metric, suffix in [(\"xent\", \".xentdiff.npy\"), (\"kl_full\", \".kldiff.npy\")]:\n",
    "            # Compute diffs\n",
    "            xent_diffs = np.diff(metrics[metric][start:end], axis=1)\n",
    "            xent_diffs = np.pad(xent_diffs, [(1, 0), (0, 0)], constant_values=np.nan)\n",
    "            xent_diffs = np.ma.masked_array(xent_diffs, np.isnan(xent_diffs))\n",
    "            xent_diffs_norm = xent_diffs / np.max(np.abs(xent_diffs), axis=1, keepdims=True)\n",
    "            xent_diffs_norm = np.ascontiguousarray(xent_diffs_norm.data)  # C-order needed for npyjs\n",
    "\n",
    "            # Quantize to save space\n",
    "            xent_diffs_int8 = np.nan_to_num(xent_diffs_norm) * (127.5 - 1e-4)\n",
    "            assert (np.abs(xent_diffs_int8) < 127.5).all()\n",
    "            xent_diffs_int8 = np.rint(xent_diffs_int8).astype(np.int8)\n",
    "            # Check that we recover the original values with the right precision\n",
    "            assert (\n",
    "                np.nan_to_num(np.abs(xent_diffs_int8.astype(np.float32) / 127 - xent_diffs_norm))\n",
    "                <= 1/(127 + 1e-4)\n",
    "            ).all()\n",
    "            np.save(Path(\"demo/static/data\") / (prefix + suffix), xent_diffs_int8, allow_pickle=False)\n",
    "\n",
    "        # Save top-k\n",
    "        topk = np.asarray(metrics[\"topk\"][start:end, :, :5])\n",
    "        topk = np.pad(topk, [(1, 0), (0, 0), (0, 0)], constant_values=-1)\n",
    "        topk = np.ascontiguousarray(topk)\n",
    "        np.save(Path(\"demo/static/data\") / (prefix + \".topk.npy\"), topk, allow_pickle=False)\n",
    "\n",
    "all_tokens = []\n",
    "for seq_id, (start, end) in enumerate(zip(seq_bounds[:-1], seq_bounds[1:])):\n",
    "    tokens = ids_to_readable_tokens(tokenizer, dataset[seq_id][\"input_ids\"], strip_whitespace=False)\n",
    "    all_tokens.append(tokens)\n",
    "\n",
    "dataset_name = metrics_path.stem.split(\".\")[1]\n",
    "with open(Path(\"demo/data\") / f\"{dataset_name}.tokens.json\", \"w\") as f:\n",
    "    json.dump(all_tokens, f)\n",
    "with open(Path(\"demo/static/data\") / f\"inv_vocab.json\", \"w\") as f:\n",
    "    json.dump(\n",
    "        {\n",
    "            i: tokenizer.convert_tokens_to_string(tokenizer.convert_ids_to_tokens(i))\n",
    "            for i in sorted(tokenizer.vocab.values())\n",
    "        },\n",
    "        f\n",
    "    )"
   ]
  }
 ],
 "metadata": {
  "kernelspec": {
   "display_name": "context-probing",
   "language": "python",
   "name": "context-probing"
  },
  "language_info": {
   "codemirror_mode": {
    "name": "ipython",
    "version": 3
   },
   "file_extension": ".py",
   "mimetype": "text/x-python",
   "name": "python",
   "nbconvert_exporter": "python",
   "pygments_lexer": "ipython3",
   "version": "3.9.7"
  }
 },
 "nbformat": 4,
 "nbformat_minor": 5
}
